{
 "cells": [
  {
   "cell_type": "markdown",
   "id": "63740c5e-a1e4-4597-a116-de0913313c34",
   "metadata": {},
   "source": [
    "![DBC](Images/DBC.png)\n",
    "\n",
    "# Scopus Metrics Scraper\n",
    "\n",
    "**Introduction**\n",
    "\n",
    "This notebook automates the process of retrieving bibliometric data from Scoups for a list of authors. It utilizes [pybliometrics](https://pybliometrics.readthedocs.io/en/stable/), a Python library that allows users to retrieve author and citation data from [Scopus](https://www.scopus.com/). It requires an API key (which can be obtained [here](https://dev.elsevier.com/)) and likely an InstToken (which can be obtained by emailing apisupport@elsevier.com).\n",
    "\n",
    "**Setup**\n",
    "\n",
    "1. Install the stable version of pybliometrics from PyPI:\n",
    "\n",
    "    pip install pybliometrics\n",
    "\n",
    "2. Upload a CSV with author names in the first column and Scopus ID's in the second column (no column names). Scopus ID's can be found in the URL of the author's Scopus profile. "
   ]
  },
  {
   "cell_type": "code",
   "execution_count": 96,
   "id": "639a1ee2-dfb7-4c31-a473-8cc3d4850f16",
   "metadata": {},
   "outputs": [],
   "source": [
    "import matplotlib.pyplot as plt\n",
    "import pandas as pd\n",
    "import scipy\n",
    "import seaborn as sns\n",
    "import csv\n"
   ]
  },
  {
   "cell_type": "markdown",
   "id": "f07e8e1a-3d24-47f5-9414-1607a5b019b5",
   "metadata": {},
   "source": [
    "Make sure pybiometrics is installed (I have to do this every time I run this notebook)"
   ]
  },
  {
   "cell_type": "code",
   "execution_count": 97,
   "id": "1f003926-8322-4062-b42c-9fb256b1def3",
   "metadata": {},
   "outputs": [],
   "source": [
    "from pybliometrics.scopus import AbstractRetrieval, AuthorSearch, AuthorRetrieval, CitationOverview"
   ]
  },
  {
   "cell_type": "markdown",
   "id": "d41fe1e5-1b8e-4734-a35e-fec2173c2f9a",
   "metadata": {},
   "source": [
    "Load in Scopus IDs for authors"
   ]
  },
  {
   "cell_type": "code",
   "execution_count": 98,
   "id": "e31dd9d7-cf18-4d2a-b50b-e9a39a84c435",
   "metadata": {},
   "outputs": [],
   "source": [
    "# Modify this to match your uploaded author list CSV\n",
    "input_author_csv = 'DBC-Investigators-ScopusID.csv'\n",
    "\n",
    "output_data = 'Scoups_output_dbc.csv' \n",
    "\n",
    "ids= []\n",
    "with open(input_author_csv, encoding =\"utf-8-sig\") as csv_file:\n",
    "    csv_reader = csv.reader(csv_file, delimiter =',')\n",
    "    for row in csv_reader:\n",
    "        if (len(row) == 2):\n",
    "            ids.append([row[1]])"
   ]
  },
  {
   "cell_type": "markdown",
   "id": "fd5f140c-bc53-4ee7-ada4-525658e29155",
   "metadata": {},
   "source": [
    "Retrieve the data for each author."
   ]
  },
  {
   "cell_type": "code",
   "execution_count": 99,
   "id": "a3390973-db75-4f3f-b20a-4c3c84c54016",
   "metadata": {
    "tags": []
   },
   "outputs": [],
   "source": [
    "rows = []\n",
    "# This list will contain all the ids of the documents by all authors in the list\n",
    "doc_ids = []\n",
    "\n",
    "for id in ids:\n",
    "    au = AuthorRetrieval(int(id[0]))\n",
    "    row = {'Name': au.given_name + ' ' + au.surname, 'Scholar ID': int(id[0]),\n",
    "           'Citation Count': au.citation_count, 'Document Count': au.document_count, \n",
    "           'h-index': au.h_index, 'Publication Range': au.publication_range, \n",
    "           'Document IDs': au.get_document_eids(),'Affiliation': au.affiliation_current[0][5]}\n",
    "    rows.append(row)\n",
    "\n",
    "    for doc_eid in au.get_document_eids():\n",
    "        doc_id = doc_eid[7:]               #must strip the first 7 symbols of the eid to be left with id\n",
    "        if doc_id not in doc_ids:\n",
    "            doc_ids.append(doc_id)\n"
   ]
  },
  {
   "cell_type": "markdown",
   "id": "dc3cc3d2-ffbc-4e14-885a-9f3349f7daba",
   "metadata": {},
   "source": [
    "Write the data to the output CSV"
   ]
  },
  {
   "cell_type": "code",
   "execution_count": 100,
   "id": "cb758748-ee7f-4fd1-965c-99c4b7fa1e8b",
   "metadata": {},
   "outputs": [],
   "source": [
    "# Specify the order of the data. These keys must match the names of the keys in the rows dictionary. \n",
    "keys = ['Name', 'Scholar ID', 'Citation Count', 'Document Count', 'h-index', 'Publication Range',  \n",
    "        'Document IDs', 'Affiliation']\n",
    "\n",
    "# This creates/opens the file with filename with the intention to write to the csv_file\n",
    "# The encoding allows the characters to be properly written to the csv_file\n",
    "with open(output_data, mode='w', encoding =\"utf-8\") as csv_file:\n",
    "    csv_writer = csv.writer(csv_file, delimiter=',', quotechar='\"', quoting=csv.QUOTE_MINIMAL)\n",
    "    dict_writer = csv.DictWriter(csv_file, keys, delimiter=',', quotechar='\"', quoting=csv.QUOTE_MINIMAL)\n",
    "    dict_writer.writeheader()\n",
    "    dict_writer.writerows(rows)"
   ]
  },
  {
   "cell_type": "markdown",
   "id": "0df833d4-8162-43f5-b283-668620f7f747",
   "metadata": {},
   "source": [
    "Create citations/year bar chart. Pybiometric's CitationOverview takes a list of 1-25 IDs as a parameter. For some reason, it wasn't working when I used lists of 1 ID (calling CitationOverview for each ID), but worked when I included more than one ID in the list. See: https://pybliometrics.readthedocs.io/en/stable/classes/CitationOverview.html#pybliometrics.scopus.CitationOverview"
   ]
  },
  {
   "cell_type": "code",
   "execution_count": 101,
   "id": "ddb1e33b-5695-454b-9e46-9139c08f416d",
   "metadata": {},
   "outputs": [
    {
     "data": {
      "image/png": "[encoded data removed]",
      "text/plain": [
       "<Figure size 432x288 with 1 Axes>"
      ]
     },
     "metadata": {
      "needs_background": "light"
     },
     "output_type": "display_data"
    }
   ],
   "source": [
    "data = pd.DataFrame()\n",
    "\n",
    "for i, id in enumerate(doc_ids):\n",
    "    if i%25==0:\n",
    "        if i!=0: # accounts for when i=0\n",
    "            co1 = CitationOverview(id_list,start = 2016)    # I don't know why this only returns 3 years,\n",
    "            co2 = CitationOverview(id_list,start = 2019)    # even if I set the end date later.\n",
    "            for j, listOfTup in enumerate(co1.cc):\n",
    "                cc_dict = dict(listOfTup)\n",
    "                cc_dict.update(dict(co2.cc[j]))\n",
    "                data = data.append(cc_dict, ignore_index=True)\n",
    "        id_list = [id] # start new list when the current list is full\n",
    "        \n",
    "    else:\n",
    "        id_list.append(id)\n",
    "        \n",
    "        \n",
    "# Add a totals column\n",
    "data.loc['Total']= data.sum()\n",
    "    \n",
    "# Select the last row (totals) \n",
    "data_total = data.iloc[-1:]\n",
    "\n",
    "# Create barplot\n",
    "years = list(data.columns)\n",
    "cites = data_total.values.tolist()[0]\n",
    "plt.bar(years, cites )\n",
    "plt.ylabel('Total Citations')\n",
    "\n",
    "# !!! Modify this - name the output PDF file\n",
    "plt.savefig(\"citations.pdf\")\n",
    "\n"
   ]
  }
 ],
 "metadata": {
  "kernelspec": {
   "display_name": "Python 3 (ipykernel)",
   "language": "python",
   "name": "python3"
  },
  "language_info": {
   "codemirror_mode": {
    "name": "ipython",
    "version": 3
   },
   "file_extension": ".py",
   "mimetype": "text/x-python",
   "name": "python",
   "nbconvert_exporter": "python",
   "pygments_lexer": "ipython3",
   "version": "3.9.6"
  }
 },
 "nbformat": 4,
 "nbformat_minor": 5
}
